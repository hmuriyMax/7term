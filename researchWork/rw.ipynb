{
 "cells": [
  {
   "cell_type": "code",
   "execution_count": 1,
   "id": "5f4e25c6-2a8e-4c62-aa74-538aa57ace69",
   "metadata": {},
   "outputs": [],
   "source": [
    "import pandas as pd\n",
    "import os"
   ]
  },
  {
   "cell_type": "code",
   "execution_count": 2,
   "id": "a1bd32ef-e9f8-4c66-ac01-c2d8d7281dd9",
   "metadata": {},
   "outputs": [
    {
     "data": {
      "text/plain": [
       "1"
      ]
     },
     "execution_count": 2,
     "metadata": {},
     "output_type": "execute_result"
    }
   ],
   "source": [
    "code = os.system(\"..\\\\rwGo\\\\neuro.exe 10 50000\")\n",
    "code"
   ]
  },
  {
   "cell_type": "code",
   "execution_count": 3,
   "id": "ab4511dd-59fc-4b36-8d30-789f9e80ed3a",
   "metadata": {},
   "outputs": [],
   "source": [
    "# TODO: читать из JSON"
   ]
  },
  {
   "cell_type": "code",
   "execution_count": null,
   "id": "415dcd7c-8c09-432e-afa5-26149ca36ef4",
   "metadata": {},
   "outputs": [],
   "source": []
  },
  {
   "cell_type": "code",
   "execution_count": null,
   "id": "aa1e876e-0b84-4e8a-8277-996efd584221",
   "metadata": {},
   "outputs": [],
   "source": []
  }
 ],
 "metadata": {
  "kernelspec": {
   "display_name": "Python 3 (ipykernel)",
   "language": "python",
   "name": "python3"
  },
  "language_info": {
   "codemirror_mode": {
    "name": "ipython",
    "version": 3
   },
   "file_extension": ".py",
   "mimetype": "text/x-python",
   "name": "python",
   "nbconvert_exporter": "python",
   "pygments_lexer": "ipython3",
   "version": "3.9.13"
  }
 },
 "nbformat": 4,
 "nbformat_minor": 5
}
